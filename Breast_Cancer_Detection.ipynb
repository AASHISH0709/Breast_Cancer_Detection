{
 "cells": [
  {
   "cell_type": "code",
   "execution_count": 1,
   "id": "7d54026f",
   "metadata": {},
   "outputs": [],
   "source": [
    "import pandas as pd\n",
    "import numpy as np\n",
    "\n",
    "from sklearn.datasets import load_breast_cancer\n",
    "from sklearn.preprocessing import StandardScaler\n",
    "\n",
    "from keras.models import Sequential\n",
    "from keras.layers import Dense"
   ]
  },
  {
   "cell_type": "code",
   "execution_count": 2,
   "id": "866e83a0",
   "metadata": {},
   "outputs": [],
   "source": [
    "data = load_breast_cancer()"
   ]
  },
  {
   "cell_type": "code",
   "execution_count": 3,
   "id": "9433aadf",
   "metadata": {},
   "outputs": [
    {
     "data": {
      "text/plain": [
       "dict_keys(['data', 'target', 'frame', 'target_names', 'DESCR', 'feature_names', 'filename'])"
      ]
     },
     "execution_count": 3,
     "metadata": {},
     "output_type": "execute_result"
    }
   ],
   "source": [
    "data.keys()"
   ]
  },
  {
   "cell_type": "code",
   "execution_count": 4,
   "id": "46b80957",
   "metadata": {},
   "outputs": [
    {
     "name": "stdout",
     "output_type": "stream",
     "text": [
      ".. _breast_cancer_dataset:\n",
      "\n",
      "Breast cancer wisconsin (diagnostic) dataset\n",
      "--------------------------------------------\n",
      "\n",
      "**Data Set Characteristics:**\n",
      "\n",
      "    :Number of Instances: 569\n",
      "\n",
      "    :Number of Attributes: 30 numeric, predictive attributes and the class\n",
      "\n",
      "    :Attribute Information:\n",
      "        - radius (mean of distances from center to points on the perimeter)\n",
      "        - texture (standard deviation of gray-scale values)\n",
      "        - perimeter\n",
      "        - area\n",
      "        - smoothness (local variation in radius lengths)\n",
      "        - compactness (perimeter^2 / area - 1.0)\n",
      "        - concavity (severity of concave portions of the contour)\n",
      "        - concave points (number of concave portions of the contour)\n",
      "        - symmetry\n",
      "        - fractal dimension (\"coastline approximation\" - 1)\n",
      "\n",
      "        The mean, standard error, and \"worst\" or largest (mean of the three\n",
      "        worst/largest values) of these features were computed for each image,\n",
      "        resulting in 30 features.  For instance, field 0 is Mean Radius, field\n",
      "        10 is Radius SE, field 20 is Worst Radius.\n",
      "\n",
      "        - class:\n",
      "                - WDBC-Malignant\n",
      "                - WDBC-Benign\n",
      "\n",
      "    :Summary Statistics:\n",
      "\n",
      "    ===================================== ====== ======\n",
      "                                           Min    Max\n",
      "    ===================================== ====== ======\n",
      "    radius (mean):                        6.981  28.11\n",
      "    texture (mean):                       9.71   39.28\n",
      "    perimeter (mean):                     43.79  188.5\n",
      "    area (mean):                          143.5  2501.0\n",
      "    smoothness (mean):                    0.053  0.163\n",
      "    compactness (mean):                   0.019  0.345\n",
      "    concavity (mean):                     0.0    0.427\n",
      "    concave points (mean):                0.0    0.201\n",
      "    symmetry (mean):                      0.106  0.304\n",
      "    fractal dimension (mean):             0.05   0.097\n",
      "    radius (standard error):              0.112  2.873\n",
      "    texture (standard error):             0.36   4.885\n",
      "    perimeter (standard error):           0.757  21.98\n",
      "    area (standard error):                6.802  542.2\n",
      "    smoothness (standard error):          0.002  0.031\n",
      "    compactness (standard error):         0.002  0.135\n",
      "    concavity (standard error):           0.0    0.396\n",
      "    concave points (standard error):      0.0    0.053\n",
      "    symmetry (standard error):            0.008  0.079\n",
      "    fractal dimension (standard error):   0.001  0.03\n",
      "    radius (worst):                       7.93   36.04\n",
      "    texture (worst):                      12.02  49.54\n",
      "    perimeter (worst):                    50.41  251.2\n",
      "    area (worst):                         185.2  4254.0\n",
      "    smoothness (worst):                   0.071  0.223\n",
      "    compactness (worst):                  0.027  1.058\n",
      "    concavity (worst):                    0.0    1.252\n",
      "    concave points (worst):               0.0    0.291\n",
      "    symmetry (worst):                     0.156  0.664\n",
      "    fractal dimension (worst):            0.055  0.208\n",
      "    ===================================== ====== ======\n",
      "\n",
      "    :Missing Attribute Values: None\n",
      "\n",
      "    :Class Distribution: 212 - Malignant, 357 - Benign\n",
      "\n",
      "    :Creator:  Dr. William H. Wolberg, W. Nick Street, Olvi L. Mangasarian\n",
      "\n",
      "    :Donor: Nick Street\n",
      "\n",
      "    :Date: November, 1995\n",
      "\n",
      "This is a copy of UCI ML Breast Cancer Wisconsin (Diagnostic) datasets.\n",
      "https://goo.gl/U2Uwz2\n",
      "\n",
      "Features are computed from a digitized image of a fine needle\n",
      "aspirate (FNA) of a breast mass.  They describe\n",
      "characteristics of the cell nuclei present in the image.\n",
      "\n",
      "Separating plane described above was obtained using\n",
      "Multisurface Method-Tree (MSM-T) [K. P. Bennett, \"Decision Tree\n",
      "Construction Via Linear Programming.\" Proceedings of the 4th\n",
      "Midwest Artificial Intelligence and Cognitive Science Society,\n",
      "pp. 97-101, 1992], a classification method which uses linear\n",
      "programming to construct a decision tree.  Relevant features\n",
      "were selected using an exhaustive search in the space of 1-4\n",
      "features and 1-3 separating planes.\n",
      "\n",
      "The actual linear program used to obtain the separating plane\n",
      "in the 3-dimensional space is that described in:\n",
      "[K. P. Bennett and O. L. Mangasarian: \"Robust Linear\n",
      "Programming Discrimination of Two Linearly Inseparable Sets\",\n",
      "Optimization Methods and Software 1, 1992, 23-34].\n",
      "\n",
      "This database is also available through the UW CS ftp server:\n",
      "\n",
      "ftp ftp.cs.wisc.edu\n",
      "cd math-prog/cpo-dataset/machine-learn/WDBC/\n",
      "\n",
      ".. topic:: References\n",
      "\n",
      "   - W.N. Street, W.H. Wolberg and O.L. Mangasarian. Nuclear feature extraction \n",
      "     for breast tumor diagnosis. IS&T/SPIE 1993 International Symposium on \n",
      "     Electronic Imaging: Science and Technology, volume 1905, pages 861-870,\n",
      "     San Jose, CA, 1993.\n",
      "   - O.L. Mangasarian, W.N. Street and W.H. Wolberg. Breast cancer diagnosis and \n",
      "     prognosis via linear programming. Operations Research, 43(4), pages 570-577, \n",
      "     July-August 1995.\n",
      "   - W.H. Wolberg, W.N. Street, and O.L. Mangasarian. Machine learning techniques\n",
      "     to diagnose breast cancer from fine-needle aspirates. Cancer Letters 77 (1994) \n",
      "     163-171.\n"
     ]
    }
   ],
   "source": [
    "print(data['DESCR'])"
   ]
  },
  {
   "cell_type": "code",
   "execution_count": 5,
   "id": "d9a1de01",
   "metadata": {},
   "outputs": [
    {
     "data": {
      "text/plain": [
       "(569, 30)"
      ]
     },
     "execution_count": 5,
     "metadata": {},
     "output_type": "execute_result"
    }
   ],
   "source": [
    "data['data'].shape"
   ]
  },
  {
   "cell_type": "code",
   "execution_count": 6,
   "id": "284fb2ea",
   "metadata": {},
   "outputs": [
    {
     "data": {
      "text/plain": [
       "array(['mean radius', 'mean texture', 'mean perimeter', 'mean area',\n",
       "       'mean smoothness', 'mean compactness', 'mean concavity',\n",
       "       'mean concave points', 'mean symmetry', 'mean fractal dimension',\n",
       "       'radius error', 'texture error', 'perimeter error', 'area error',\n",
       "       'smoothness error', 'compactness error', 'concavity error',\n",
       "       'concave points error', 'symmetry error',\n",
       "       'fractal dimension error', 'worst radius', 'worst texture',\n",
       "       'worst perimeter', 'worst area', 'worst smoothness',\n",
       "       'worst compactness', 'worst concavity', 'worst concave points',\n",
       "       'worst symmetry', 'worst fractal dimension'], dtype='<U23')"
      ]
     },
     "execution_count": 6,
     "metadata": {},
     "output_type": "execute_result"
    }
   ],
   "source": [
    "data['feature_names']"
   ]
  },
  {
   "cell_type": "code",
   "execution_count": 7,
   "id": "be299ccc",
   "metadata": {},
   "outputs": [
    {
     "data": {
      "text/plain": [
       "array([1.799e+01, 1.038e+01, 1.228e+02, 1.001e+03, 1.184e-01, 2.776e-01,\n",
       "       3.001e-01, 1.471e-01, 2.419e-01, 7.871e-02, 1.095e+00, 9.053e-01,\n",
       "       8.589e+00, 1.534e+02, 6.399e-03, 4.904e-02, 5.373e-02, 1.587e-02,\n",
       "       3.003e-02, 6.193e-03, 2.538e+01, 1.733e+01, 1.846e+02, 2.019e+03,\n",
       "       1.622e-01, 6.656e-01, 7.119e-01, 2.654e-01, 4.601e-01, 1.189e-01])"
      ]
     },
     "execution_count": 7,
     "metadata": {},
     "output_type": "execute_result"
    }
   ],
   "source": [
    "data['data'][0]"
   ]
  },
  {
   "cell_type": "code",
   "execution_count": 8,
   "id": "bcd66271",
   "metadata": {},
   "outputs": [
    {
     "name": "stdout",
     "output_type": "stream",
     "text": [
      "mean radius : 17.99\n",
      "mean texture : 10.38\n",
      "mean perimeter : 122.8\n",
      "mean area : 1001.0\n",
      "mean smoothness : 0.1184\n",
      "mean compactness : 0.2776\n",
      "mean concavity : 0.3001\n",
      "mean concave points : 0.1471\n",
      "mean symmetry : 0.2419\n",
      "mean fractal dimension : 0.07871\n",
      "radius error : 1.095\n",
      "texture error : 0.9053\n",
      "perimeter error : 8.589\n",
      "area error : 153.4\n",
      "smoothness error : 0.006399\n",
      "compactness error : 0.04904\n",
      "concavity error : 0.05373\n",
      "concave points error : 0.01587\n",
      "symmetry error : 0.03003\n",
      "fractal dimension error : 0.006193\n",
      "worst radius : 25.38\n",
      "worst texture : 17.33\n",
      "worst perimeter : 184.6\n",
      "worst area : 2019.0\n",
      "worst smoothness : 0.1622\n",
      "worst compactness : 0.6656\n",
      "worst concavity : 0.7119\n",
      "worst concave points : 0.2654\n",
      "worst symmetry : 0.4601\n",
      "worst fractal dimension : 0.1189\n"
     ]
    }
   ],
   "source": [
    "j = 0\n",
    "for i in data['feature_names']:\n",
    "  print(i,\":\",data['data'][0][j])\n",
    "  j+=1"
   ]
  },
  {
   "cell_type": "code",
   "execution_count": 9,
   "id": "8d953bcc",
   "metadata": {},
   "outputs": [],
   "source": [
    "feature = data['data']"
   ]
  },
  {
   "cell_type": "code",
   "execution_count": 10,
   "id": "30bc61b8",
   "metadata": {},
   "outputs": [],
   "source": [
    "label = data['target']"
   ]
  },
  {
   "cell_type": "code",
   "execution_count": 11,
   "id": "80273de8",
   "metadata": {},
   "outputs": [
    {
     "data": {
      "text/plain": [
       "array(['malignant', 'benign'], dtype='<U9')"
      ]
     },
     "execution_count": 11,
     "metadata": {},
     "output_type": "execute_result"
    }
   ],
   "source": [
    "data['target_names']"
   ]
  },
  {
   "cell_type": "code",
   "execution_count": 12,
   "id": "1fee9312",
   "metadata": {},
   "outputs": [
    {
     "data": {
      "text/plain": [
       "(569, 30)"
      ]
     },
     "execution_count": 12,
     "metadata": {},
     "output_type": "execute_result"
    }
   ],
   "source": [
    "feature.shape"
   ]
  },
  {
   "cell_type": "code",
   "execution_count": 13,
   "id": "519bf3a1",
   "metadata": {},
   "outputs": [
    {
     "data": {
      "text/plain": [
       "(569,)"
      ]
     },
     "execution_count": 13,
     "metadata": {},
     "output_type": "execute_result"
    }
   ],
   "source": [
    "label.shape"
   ]
  },
  {
   "cell_type": "code",
   "execution_count": 14,
   "id": "bf8fa388",
   "metadata": {},
   "outputs": [],
   "source": [
    "scale = StandardScaler()\n",
    "\n",
    "feature = scale.fit_transform(feature)"
   ]
  },
  {
   "cell_type": "code",
   "execution_count": 15,
   "id": "a2aea880",
   "metadata": {},
   "outputs": [
    {
     "name": "stdout",
     "output_type": "stream",
     "text": [
      "mean radius : 1.0970639814699807\n",
      "mean texture : -2.0733350146975935\n",
      "mean perimeter : 1.2699336881399383\n",
      "mean area : 0.9843749048031144\n",
      "mean smoothness : 1.568466329243428\n",
      "mean compactness : 3.2835146709868264\n",
      "mean concavity : 2.652873983743168\n",
      "mean concave points : 2.532475216403245\n",
      "mean symmetry : 2.2175150059646405\n",
      "mean fractal dimension : 2.255746885296269\n",
      "radius error : 2.4897339267376193\n",
      "texture error : -0.5652650590684639\n",
      "perimeter error : 2.833030865855184\n",
      "area error : 2.4875775569611043\n",
      "smoothness error : -0.21400164666895383\n",
      "compactness error : 1.3168615683959484\n",
      "concavity error : 0.72402615808036\n",
      "concave points error : 0.6608199414286064\n",
      "symmetry error : 1.1487566671861758\n",
      "fractal dimension error : 0.9070830809973359\n",
      "worst radius : 1.8866896251792757\n",
      "worst texture : -1.3592934737640827\n",
      "worst perimeter : 2.3036006236225606\n",
      "worst area : 2.0012374893299207\n",
      "worst smoothness : 1.3076862710715387\n",
      "worst compactness : 2.616665023512603\n",
      "worst concavity : 2.1095263465722556\n",
      "worst concave points : 2.296076127561788\n",
      "worst symmetry : 2.750622244124955\n",
      "worst fractal dimension : 1.9370146123781782\n"
     ]
    }
   ],
   "source": [
    "j = 0\n",
    "for i in data['feature_names']:\n",
    "  print(i,\":\",feature[0][j])\n",
    "  j+=1"
   ]
  },
  {
   "cell_type": "code",
   "execution_count": 16,
   "id": "c076100a",
   "metadata": {},
   "outputs": [
    {
     "name": "stdout",
     "output_type": "stream",
     "text": [
      "[-1.80840125  1.22179204 -1.81438851 -1.34778924 -3.11208479 -1.15075248\n",
      " -1.11487284 -1.26181958 -0.8200699  -0.56103238 -0.07027874  0.3830925\n",
      " -0.15744905 -0.46615196  0.04934236 -1.16351619 -1.05750068 -1.91344745\n",
      "  0.75282996 -0.382754   -1.41089258  0.76418957 -1.43273495 -1.07581292\n",
      " -1.85901852 -1.2075525  -1.30583065 -1.74506282 -0.04813821 -0.75120669]\n",
      "benign 1\n"
     ]
    }
   ],
   "source": [
    "print(feature[568])\n",
    "print(data['target_names'][label[568]],label[568])"
   ]
  },
  {
   "cell_type": "code",
   "execution_count": 17,
   "id": "0d8e6716",
   "metadata": {},
   "outputs": [],
   "source": [
    "df_frt = pd.DataFrame(feature , columns = data['feature_names'])\n",
    "df_lbl = pd.DataFrame(label , columns = ['label'])\n",
    "df = pd.concat([df_frt, df_lbl], axis=1)\n",
    "df = df.sample(frac = 1)\n",
    "\n",
    "feature = df.values[ : , : 30]\n",
    "label = df.values[ : ,30: ]\n"
   ]
  },
  {
   "cell_type": "code",
   "execution_count": 18,
   "id": "4909d89f",
   "metadata": {},
   "outputs": [
    {
     "data": {
      "text/html": [
       "<div>\n",
       "<style scoped>\n",
       "    .dataframe tbody tr th:only-of-type {\n",
       "        vertical-align: middle;\n",
       "    }\n",
       "\n",
       "    .dataframe tbody tr th {\n",
       "        vertical-align: top;\n",
       "    }\n",
       "\n",
       "    .dataframe thead th {\n",
       "        text-align: right;\n",
       "    }\n",
       "</style>\n",
       "<table border=\"1\" class=\"dataframe\">\n",
       "  <thead>\n",
       "    <tr style=\"text-align: right;\">\n",
       "      <th></th>\n",
       "      <th>mean radius</th>\n",
       "      <th>mean texture</th>\n",
       "      <th>mean perimeter</th>\n",
       "      <th>mean area</th>\n",
       "      <th>mean smoothness</th>\n",
       "      <th>mean compactness</th>\n",
       "      <th>mean concavity</th>\n",
       "      <th>mean concave points</th>\n",
       "      <th>mean symmetry</th>\n",
       "      <th>mean fractal dimension</th>\n",
       "      <th>...</th>\n",
       "      <th>worst texture</th>\n",
       "      <th>worst perimeter</th>\n",
       "      <th>worst area</th>\n",
       "      <th>worst smoothness</th>\n",
       "      <th>worst compactness</th>\n",
       "      <th>worst concavity</th>\n",
       "      <th>worst concave points</th>\n",
       "      <th>worst symmetry</th>\n",
       "      <th>worst fractal dimension</th>\n",
       "      <th>label</th>\n",
       "    </tr>\n",
       "  </thead>\n",
       "  <tbody>\n",
       "    <tr>\n",
       "      <th>485</th>\n",
       "      <td>-0.476375</td>\n",
       "      <td>-0.670114</td>\n",
       "      <td>-0.375615</td>\n",
       "      <td>-0.506788</td>\n",
       "      <td>-0.086842</td>\n",
       "      <td>0.886153</td>\n",
       "      <td>0.823615</td>\n",
       "      <td>-0.011843</td>\n",
       "      <td>0.987147</td>\n",
       "      <td>1.481735</td>\n",
       "      <td>...</td>\n",
       "      <td>-0.756771</td>\n",
       "      <td>-0.281214</td>\n",
       "      <td>-0.527344</td>\n",
       "      <td>-0.651778</td>\n",
       "      <td>0.965882</td>\n",
       "      <td>1.043037</td>\n",
       "      <td>0.298347</td>\n",
       "      <td>0.534263</td>\n",
       "      <td>1.078069</td>\n",
       "      <td>1</td>\n",
       "    </tr>\n",
       "    <tr>\n",
       "      <th>36</th>\n",
       "      <td>0.034851</td>\n",
       "      <td>0.565559</td>\n",
       "      <td>0.068416</td>\n",
       "      <td>-0.062255</td>\n",
       "      <td>0.133059</td>\n",
       "      <td>0.103456</td>\n",
       "      <td>0.541128</td>\n",
       "      <td>0.182128</td>\n",
       "      <td>0.267911</td>\n",
       "      <td>-0.219390</td>\n",
       "      <td>...</td>\n",
       "      <td>0.762561</td>\n",
       "      <td>0.266249</td>\n",
       "      <td>-0.142361</td>\n",
       "      <td>0.536175</td>\n",
       "      <td>1.078479</td>\n",
       "      <td>1.182165</td>\n",
       "      <td>0.458226</td>\n",
       "      <td>1.116664</td>\n",
       "      <td>0.967238</td>\n",
       "      <td>0</td>\n",
       "    </tr>\n",
       "    <tr>\n",
       "      <th>135</th>\n",
       "      <td>-0.385490</td>\n",
       "      <td>0.740089</td>\n",
       "      <td>-0.422160</td>\n",
       "      <td>-0.422603</td>\n",
       "      <td>-0.413491</td>\n",
       "      <td>-0.885621</td>\n",
       "      <td>-0.523408</td>\n",
       "      <td>-0.564350</td>\n",
       "      <td>-0.827372</td>\n",
       "      <td>-0.304446</td>\n",
       "      <td>...</td>\n",
       "      <td>1.252721</td>\n",
       "      <td>-0.453377</td>\n",
       "      <td>-0.399017</td>\n",
       "      <td>0.417818</td>\n",
       "      <td>-0.648640</td>\n",
       "      <td>-0.261410</td>\n",
       "      <td>-0.324269</td>\n",
       "      <td>-0.116085</td>\n",
       "      <td>-0.181532</td>\n",
       "      <td>0</td>\n",
       "    </tr>\n",
       "    <tr>\n",
       "      <th>302</th>\n",
       "      <td>1.693494</td>\n",
       "      <td>1.063551</td>\n",
       "      <td>1.760097</td>\n",
       "      <td>1.684024</td>\n",
       "      <td>0.828346</td>\n",
       "      <td>1.505866</td>\n",
       "      <td>1.751427</td>\n",
       "      <td>2.039810</td>\n",
       "      <td>1.596855</td>\n",
       "      <td>1.685870</td>\n",
       "      <td>...</td>\n",
       "      <td>0.611116</td>\n",
       "      <td>1.535126</td>\n",
       "      <td>1.433432</td>\n",
       "      <td>0.102199</td>\n",
       "      <td>0.539669</td>\n",
       "      <td>1.060308</td>\n",
       "      <td>1.183012</td>\n",
       "      <td>0.636183</td>\n",
       "      <td>0.595398</td>\n",
       "      <td>0</td>\n",
       "    </tr>\n",
       "    <tr>\n",
       "      <th>338</th>\n",
       "      <td>-1.158009</td>\n",
       "      <td>-0.409482</td>\n",
       "      <td>-1.135162</td>\n",
       "      <td>-0.978625</td>\n",
       "      <td>0.308838</td>\n",
       "      <td>-0.589031</td>\n",
       "      <td>-0.799618</td>\n",
       "      <td>-0.803976</td>\n",
       "      <td>0.286166</td>\n",
       "      <td>0.072637</td>\n",
       "      <td>...</td>\n",
       "      <td>0.189351</td>\n",
       "      <td>-1.050880</td>\n",
       "      <td>-0.872950</td>\n",
       "      <td>0.343297</td>\n",
       "      <td>-0.725613</td>\n",
       "      <td>-0.799692</td>\n",
       "      <td>-0.755486</td>\n",
       "      <td>-0.010929</td>\n",
       "      <td>-0.404858</td>\n",
       "      <td>1</td>\n",
       "    </tr>\n",
       "    <tr>\n",
       "      <th>...</th>\n",
       "      <td>...</td>\n",
       "      <td>...</td>\n",
       "      <td>...</td>\n",
       "      <td>...</td>\n",
       "      <td>...</td>\n",
       "      <td>...</td>\n",
       "      <td>...</td>\n",
       "      <td>...</td>\n",
       "      <td>...</td>\n",
       "      <td>...</td>\n",
       "      <td>...</td>\n",
       "      <td>...</td>\n",
       "      <td>...</td>\n",
       "      <td>...</td>\n",
       "      <td>...</td>\n",
       "      <td>...</td>\n",
       "      <td>...</td>\n",
       "      <td>...</td>\n",
       "      <td>...</td>\n",
       "      <td>...</td>\n",
       "      <td>...</td>\n",
       "    </tr>\n",
       "    <tr>\n",
       "      <th>348</th>\n",
       "      <td>-0.754709</td>\n",
       "      <td>-0.758542</td>\n",
       "      <td>-0.780514</td>\n",
       "      <td>-0.717252</td>\n",
       "      <td>-0.398546</td>\n",
       "      <td>-0.861932</td>\n",
       "      <td>-0.790076</td>\n",
       "      <td>-0.662883</td>\n",
       "      <td>-0.648476</td>\n",
       "      <td>0.130758</td>\n",
       "      <td>...</td>\n",
       "      <td>-0.795854</td>\n",
       "      <td>-0.821827</td>\n",
       "      <td>-0.711573</td>\n",
       "      <td>0.908780</td>\n",
       "      <td>-0.905004</td>\n",
       "      <td>-0.834570</td>\n",
       "      <td>-0.748025</td>\n",
       "      <td>-0.080494</td>\n",
       "      <td>0.204162</td>\n",
       "      <td>1</td>\n",
       "    </tr>\n",
       "    <tr>\n",
       "      <th>433</th>\n",
       "      <td>1.332796</td>\n",
       "      <td>0.623736</td>\n",
       "      <td>1.307005</td>\n",
       "      <td>1.294382</td>\n",
       "      <td>0.387120</td>\n",
       "      <td>0.654944</td>\n",
       "      <td>0.886390</td>\n",
       "      <td>0.993606</td>\n",
       "      <td>0.479666</td>\n",
       "      <td>-0.209467</td>\n",
       "      <td>...</td>\n",
       "      <td>0.855382</td>\n",
       "      <td>1.133017</td>\n",
       "      <td>1.269946</td>\n",
       "      <td>0.290694</td>\n",
       "      <td>0.585471</td>\n",
       "      <td>0.570961</td>\n",
       "      <td>0.855640</td>\n",
       "      <td>0.171880</td>\n",
       "      <td>-0.044655</td>\n",
       "      <td>0</td>\n",
       "    </tr>\n",
       "    <tr>\n",
       "      <th>167</th>\n",
       "      <td>0.753407</td>\n",
       "      <td>-0.113944</td>\n",
       "      <td>0.713866</td>\n",
       "      <td>0.658156</td>\n",
       "      <td>-0.548706</td>\n",
       "      <td>-0.237291</td>\n",
       "      <td>-0.057493</td>\n",
       "      <td>0.434393</td>\n",
       "      <td>0.297119</td>\n",
       "      <td>-1.057194</td>\n",
       "      <td>...</td>\n",
       "      <td>0.101415</td>\n",
       "      <td>0.698144</td>\n",
       "      <td>0.666982</td>\n",
       "      <td>-0.682463</td>\n",
       "      <td>-0.269501</td>\n",
       "      <td>-0.193765</td>\n",
       "      <td>0.499338</td>\n",
       "      <td>-0.146823</td>\n",
       "      <td>-0.646471</td>\n",
       "      <td>0</td>\n",
       "    </tr>\n",
       "    <tr>\n",
       "      <th>428</th>\n",
       "      <td>-0.851273</td>\n",
       "      <td>-0.621245</td>\n",
       "      <td>-0.885549</td>\n",
       "      <td>-0.778684</td>\n",
       "      <td>-1.056827</td>\n",
       "      <td>-1.250816</td>\n",
       "      <td>-0.942995</td>\n",
       "      <td>-0.908442</td>\n",
       "      <td>-1.097542</td>\n",
       "      <td>-0.186785</td>\n",
       "      <td>...</td>\n",
       "      <td>-0.877276</td>\n",
       "      <td>-0.980288</td>\n",
       "      <td>-0.807731</td>\n",
       "      <td>-1.287398</td>\n",
       "      <td>-1.221866</td>\n",
       "      <td>-1.086104</td>\n",
       "      <td>-1.129299</td>\n",
       "      <td>-0.837615</td>\n",
       "      <td>-0.726824</td>\n",
       "      <td>1</td>\n",
       "    </tr>\n",
       "    <tr>\n",
       "      <th>344</th>\n",
       "      <td>-0.686545</td>\n",
       "      <td>-0.893512</td>\n",
       "      <td>-0.697722</td>\n",
       "      <td>-0.667195</td>\n",
       "      <td>1.326504</td>\n",
       "      <td>-0.597559</td>\n",
       "      <td>-0.611921</td>\n",
       "      <td>-0.423515</td>\n",
       "      <td>0.720628</td>\n",
       "      <td>0.320717</td>\n",
       "      <td>...</td>\n",
       "      <td>-1.224133</td>\n",
       "      <td>-0.688089</td>\n",
       "      <td>-0.640202</td>\n",
       "      <td>0.597545</td>\n",
       "      <td>-0.908185</td>\n",
       "      <td>-0.784340</td>\n",
       "      <td>-0.547643</td>\n",
       "      <td>-0.219623</td>\n",
       "      <td>-0.326167</td>\n",
       "      <td>1</td>\n",
       "    </tr>\n",
       "  </tbody>\n",
       "</table>\n",
       "<p>569 rows × 31 columns</p>\n",
       "</div>"
      ],
      "text/plain": [
       "     mean radius  mean texture  mean perimeter  mean area  mean smoothness  \\\n",
       "485    -0.476375     -0.670114       -0.375615  -0.506788        -0.086842   \n",
       "36      0.034851      0.565559        0.068416  -0.062255         0.133059   \n",
       "135    -0.385490      0.740089       -0.422160  -0.422603        -0.413491   \n",
       "302     1.693494      1.063551        1.760097   1.684024         0.828346   \n",
       "338    -1.158009     -0.409482       -1.135162  -0.978625         0.308838   \n",
       "..           ...           ...             ...        ...              ...   \n",
       "348    -0.754709     -0.758542       -0.780514  -0.717252        -0.398546   \n",
       "433     1.332796      0.623736        1.307005   1.294382         0.387120   \n",
       "167     0.753407     -0.113944        0.713866   0.658156        -0.548706   \n",
       "428    -0.851273     -0.621245       -0.885549  -0.778684        -1.056827   \n",
       "344    -0.686545     -0.893512       -0.697722  -0.667195         1.326504   \n",
       "\n",
       "     mean compactness  mean concavity  mean concave points  mean symmetry  \\\n",
       "485          0.886153        0.823615            -0.011843       0.987147   \n",
       "36           0.103456        0.541128             0.182128       0.267911   \n",
       "135         -0.885621       -0.523408            -0.564350      -0.827372   \n",
       "302          1.505866        1.751427             2.039810       1.596855   \n",
       "338         -0.589031       -0.799618            -0.803976       0.286166   \n",
       "..                ...             ...                  ...            ...   \n",
       "348         -0.861932       -0.790076            -0.662883      -0.648476   \n",
       "433          0.654944        0.886390             0.993606       0.479666   \n",
       "167         -0.237291       -0.057493             0.434393       0.297119   \n",
       "428         -1.250816       -0.942995            -0.908442      -1.097542   \n",
       "344         -0.597559       -0.611921            -0.423515       0.720628   \n",
       "\n",
       "     mean fractal dimension  ...  worst texture  worst perimeter  worst area  \\\n",
       "485                1.481735  ...      -0.756771        -0.281214   -0.527344   \n",
       "36                -0.219390  ...       0.762561         0.266249   -0.142361   \n",
       "135               -0.304446  ...       1.252721        -0.453377   -0.399017   \n",
       "302                1.685870  ...       0.611116         1.535126    1.433432   \n",
       "338                0.072637  ...       0.189351        -1.050880   -0.872950   \n",
       "..                      ...  ...            ...              ...         ...   \n",
       "348                0.130758  ...      -0.795854        -0.821827   -0.711573   \n",
       "433               -0.209467  ...       0.855382         1.133017    1.269946   \n",
       "167               -1.057194  ...       0.101415         0.698144    0.666982   \n",
       "428               -0.186785  ...      -0.877276        -0.980288   -0.807731   \n",
       "344                0.320717  ...      -1.224133        -0.688089   -0.640202   \n",
       "\n",
       "     worst smoothness  worst compactness  worst concavity  \\\n",
       "485         -0.651778           0.965882         1.043037   \n",
       "36           0.536175           1.078479         1.182165   \n",
       "135          0.417818          -0.648640        -0.261410   \n",
       "302          0.102199           0.539669         1.060308   \n",
       "338          0.343297          -0.725613        -0.799692   \n",
       "..                ...                ...              ...   \n",
       "348          0.908780          -0.905004        -0.834570   \n",
       "433          0.290694           0.585471         0.570961   \n",
       "167         -0.682463          -0.269501        -0.193765   \n",
       "428         -1.287398          -1.221866        -1.086104   \n",
       "344          0.597545          -0.908185        -0.784340   \n",
       "\n",
       "     worst concave points  worst symmetry  worst fractal dimension  label  \n",
       "485              0.298347        0.534263                 1.078069      1  \n",
       "36               0.458226        1.116664                 0.967238      0  \n",
       "135             -0.324269       -0.116085                -0.181532      0  \n",
       "302              1.183012        0.636183                 0.595398      0  \n",
       "338             -0.755486       -0.010929                -0.404858      1  \n",
       "..                    ...             ...                      ...    ...  \n",
       "348             -0.748025       -0.080494                 0.204162      1  \n",
       "433              0.855640        0.171880                -0.044655      0  \n",
       "167              0.499338       -0.146823                -0.646471      0  \n",
       "428             -1.129299       -0.837615                -0.726824      1  \n",
       "344             -0.547643       -0.219623                -0.326167      1  \n",
       "\n",
       "[569 rows x 31 columns]"
      ]
     },
     "execution_count": 18,
     "metadata": {},
     "output_type": "execute_result"
    }
   ],
   "source": [
    "df"
   ]
  },
  {
   "cell_type": "code",
   "execution_count": 19,
   "id": "d382f7c5",
   "metadata": {},
   "outputs": [],
   "source": [
    "#500 Training\n",
    "X_train = feature[:500]\n",
    "y_train = label[:500]\n",
    "\n",
    "#35 Validation\n",
    "X_val = feature[500:535]\n",
    "y_val = label[500:535]\n",
    "\n",
    "#34 Testing\n",
    "X_test = feature[535:]\n",
    "y_test = label[535:]"
   ]
  },
  {
   "cell_type": "code",
   "execution_count": 20,
   "id": "4bfe72bf",
   "metadata": {},
   "outputs": [],
   "source": [
    "model = Sequential()\n",
    "\n",
    "model.add(Dense(32, activation = 'relu', input_dim = 30))\n",
    "model.add(Dense(64, activation = 'relu'))\n",
    "model.add(Dense(128, activation = 'relu'))\n",
    "model.add(Dense(64, activation = 'relu'))\n",
    "model.add(Dense(32, activation = 'relu'))\n",
    "model.add(Dense(1, activation = 'sigmoid'))\n",
    "\n",
    "model.compile( loss = 'binary_crossentropy' , optimizer = 'adam' , metrics = ['accuracy'])"
   ]
  },
  {
   "cell_type": "code",
   "execution_count": 21,
   "id": "5da53430",
   "metadata": {},
   "outputs": [
    {
     "name": "stdout",
     "output_type": "stream",
     "text": [
      "Epoch 1/10\n",
      "100/100 [==============================] - 7s 14ms/step - loss: 0.2405 - accuracy: 0.9080 - val_loss: 0.1308 - val_accuracy: 0.9429\n",
      "Epoch 2/10\n",
      "100/100 [==============================] - 1s 6ms/step - loss: 0.0872 - accuracy: 0.9780 - val_loss: 0.0339 - val_accuracy: 1.0000\n",
      "Epoch 3/10\n",
      "100/100 [==============================] - 1s 6ms/step - loss: 0.0615 - accuracy: 0.9820 - val_loss: 0.0634 - val_accuracy: 0.9714\n",
      "Epoch 4/10\n",
      "100/100 [==============================] - 1s 6ms/step - loss: 0.0542 - accuracy: 0.9820 - val_loss: 0.0539 - val_accuracy: 0.9714\n",
      "Epoch 5/10\n",
      "100/100 [==============================] - 1s 7ms/step - loss: 0.0396 - accuracy: 0.9900 - val_loss: 0.0192 - val_accuracy: 1.0000\n",
      "Epoch 6/10\n",
      "100/100 [==============================] - 1s 8ms/step - loss: 0.0292 - accuracy: 0.9900 - val_loss: 0.0148 - val_accuracy: 1.0000\n",
      "Epoch 7/10\n",
      "100/100 [==============================] - 1s 5ms/step - loss: 0.0220 - accuracy: 0.9920 - val_loss: 0.0144 - val_accuracy: 1.0000\n",
      "Epoch 8/10\n",
      "100/100 [==============================] - 1s 6ms/step - loss: 0.0238 - accuracy: 0.9900 - val_loss: 0.0044 - val_accuracy: 1.0000\n",
      "Epoch 9/10\n",
      "100/100 [==============================] - 1s 7ms/step - loss: 0.0107 - accuracy: 0.9980 - val_loss: 0.0024 - val_accuracy: 1.0000\n",
      "Epoch 10/10\n",
      "100/100 [==============================] - 1s 8ms/step - loss: 0.0529 - accuracy: 0.9840 - val_loss: 0.0143 - val_accuracy: 1.0000\n"
     ]
    },
    {
     "data": {
      "text/plain": [
       "<keras.callbacks.History at 0x1f93671bb20>"
      ]
     },
     "execution_count": 21,
     "metadata": {},
     "output_type": "execute_result"
    }
   ],
   "source": [
    "model.fit( X_train , y_train, epochs = 10, batch_size = 5, validation_data = (X_val, y_val))"
   ]
  },
  {
   "cell_type": "code",
   "execution_count": 22,
   "id": "593e9454",
   "metadata": {},
   "outputs": [
    {
     "name": "stdout",
     "output_type": "stream",
     "text": [
      "2/2 [==============================] - 0s 8ms/step - loss: 0.0349 - accuracy: 0.9706\n"
     ]
    },
    {
     "data": {
      "text/plain": [
       "[0.034887876361608505, 0.970588207244873]"
      ]
     },
     "execution_count": 22,
     "metadata": {},
     "output_type": "execute_result"
    }
   ],
   "source": [
    "model.evaluate(X_test , y_test)"
   ]
  },
  {
   "cell_type": "code",
   "execution_count": 23,
   "id": "a245887a",
   "metadata": {},
   "outputs": [
    {
     "name": "stdout",
     "output_type": "stream",
     "text": [
      "2/2 [==============================] - 0s 16ms/step - loss: 0.0143 - accuracy: 1.0000\n"
     ]
    },
    {
     "data": {
      "text/plain": [
       "[0.014340673573315144, 1.0]"
      ]
     },
     "execution_count": 23,
     "metadata": {},
     "output_type": "execute_result"
    }
   ],
   "source": [
    "model.evaluate(X_val , y_val)"
   ]
  },
  {
   "cell_type": "code",
   "execution_count": 24,
   "id": "3ad0c3b4",
   "metadata": {},
   "outputs": [
    {
     "name": "stdout",
     "output_type": "stream",
     "text": [
      "1/1 [==============================] - 0s 374ms/step\n",
      "-Benign\n",
      "*Banign\n",
      "-----------\n",
      "1/1 [==============================] - 0s 75ms/step\n",
      "-Malignant\n",
      "*Melignant\n",
      "-----------\n",
      "1/1 [==============================] - 0s 81ms/step\n",
      "-Benign\n",
      "*Banign\n",
      "-----------\n",
      "1/1 [==============================] - 0s 60ms/step\n",
      "-Malignant\n",
      "*Melignant\n",
      "-----------\n",
      "1/1 [==============================] - 0s 63ms/step\n",
      "-Benign\n",
      "*Banign\n",
      "-----------\n",
      "1/1 [==============================] - 0s 67ms/step\n",
      "-Benign\n",
      "*Banign\n",
      "-----------\n",
      "1/1 [==============================] - 0s 78ms/step\n",
      "-Benign\n",
      "*Banign\n",
      "-----------\n",
      "1/1 [==============================] - 0s 63ms/step\n",
      "-Benign\n",
      "*Banign\n",
      "-----------\n",
      "1/1 [==============================] - 0s 100ms/step\n",
      "-Benign\n",
      "*Banign\n",
      "-----------\n",
      "1/1 [==============================] - 0s 70ms/step\n",
      "-Benign\n",
      "*Banign\n",
      "-----------\n",
      "1/1 [==============================] - 0s 68ms/step\n",
      "-Benign\n",
      "*Banign\n",
      "-----------\n",
      "1/1 [==============================] - 0s 63ms/step\n",
      "-Malignant\n",
      "*Melignant\n",
      "-----------\n",
      "1/1 [==============================] - 0s 114ms/step\n",
      "-Malignant\n",
      "*Banign\n",
      "-----------\n",
      "1/1 [==============================] - 0s 63ms/step\n",
      "-Malignant\n",
      "*Melignant\n",
      "-----------\n",
      "1/1 [==============================] - 0s 63ms/step\n",
      "-Benign\n",
      "*Banign\n",
      "-----------\n",
      "1/1 [==============================] - 0s 59ms/step\n",
      "-Benign\n",
      "*Banign\n",
      "-----------\n",
      "1/1 [==============================] - 0s 70ms/step\n",
      "-Benign\n",
      "*Banign\n",
      "-----------\n",
      "1/1 [==============================] - 0s 54ms/step\n",
      "-Benign\n",
      "*Banign\n",
      "-----------\n",
      "1/1 [==============================] - 0s 77ms/step\n",
      "-Malignant\n",
      "*Melignant\n",
      "-----------\n",
      "1/1 [==============================] - 0s 63ms/step\n",
      "-Benign\n",
      "*Banign\n",
      "-----------\n",
      "1/1 [==============================] - 0s 68ms/step\n",
      "-Malignant\n",
      "*Melignant\n",
      "-----------\n",
      "1/1 [==============================] - 0s 139ms/step\n",
      "-Benign\n",
      "*Banign\n",
      "-----------\n",
      "1/1 [==============================] - 0s 47ms/step\n",
      "-Malignant\n",
      "*Melignant\n",
      "-----------\n",
      "1/1 [==============================] - 0s 63ms/step\n",
      "-Benign\n",
      "*Banign\n",
      "-----------\n",
      "1/1 [==============================] - 0s 47ms/step\n",
      "-Malignant\n",
      "*Melignant\n",
      "-----------\n",
      "1/1 [==============================] - 0s 94ms/step\n",
      "-Malignant\n",
      "*Melignant\n",
      "-----------\n",
      "1/1 [==============================] - 0s 79ms/step\n",
      "-Benign\n",
      "*Banign\n",
      "-----------\n",
      "1/1 [==============================] - 0s 47ms/step\n",
      "-Benign\n",
      "*Banign\n",
      "-----------\n",
      "1/1 [==============================] - 0s 63ms/step\n",
      "-Malignant\n",
      "*Melignant\n",
      "-----------\n",
      "1/1 [==============================] - 0s 47ms/step\n",
      "-Benign\n",
      "*Banign\n",
      "-----------\n"
     ]
    }
   ],
   "source": [
    "for i in range(30):\n",
    "  sample = X_test[i]\n",
    "  sample = np.reshape(sample, (1,30))\n",
    "\n",
    "  if (model.predict(sample)[0][0] > 0.5):\n",
    "    print(\"-Benign\")\n",
    "  else:\n",
    "    print(\"-Malignant\")\n",
    "\n",
    "  if (y_test[i] == 1):\n",
    "    print(\"*Banign\")\n",
    "  else:\n",
    "    print(\"*Melignant\")\n",
    "  print(\"-----------\")"
   ]
  },
  {
   "cell_type": "code",
   "execution_count": 25,
   "id": "05c9d615",
   "metadata": {},
   "outputs": [
    {
     "name": "stdout",
     "output_type": "stream",
     "text": [
      "23\n"
     ]
    }
   ],
   "source": [
    "t = 0\n",
    "for i in y_val:\n",
    "  if (i == 1):\n",
    "    t += 1\n",
    "\n",
    "print(t)"
   ]
  },
  {
   "cell_type": "code",
   "execution_count": 26,
   "id": "74a16af3",
   "metadata": {},
   "outputs": [
    {
     "name": "stdout",
     "output_type": "stream",
     "text": [
      "22\n"
     ]
    }
   ],
   "source": [
    "t = 0\n",
    "for i in y_test:\n",
    "  if (i == 1):\n",
    "    t += 1\n",
    "\n",
    "print(t)"
   ]
  },
  {
   "cell_type": "code",
   "execution_count": 27,
   "id": "b0bb4bc7",
   "metadata": {},
   "outputs": [
    {
     "data": {
      "text/plain": [
       "array([ 0.07575487,  0.02628768,  0.07570361,  0.0716114 ,  0.05572454,\n",
       "        0.05192892,  0.06950346,  0.0874394 ,  0.14626359,  0.00521125,\n",
       "        0.0279252 ,  0.02864004,  0.01935863,  0.03829855,  0.01296649,\n",
       "       -0.00582291,  0.03210832,  0.06470766,  0.01940039,  0.01452122,\n",
       "        0.07432585,  0.0662322 ,  0.07318742,  0.06869626,  0.07876693,\n",
       "        0.0479427 ,  0.07176543,  0.09062296,  0.11207268,  0.04192659])"
      ]
     },
     "execution_count": 27,
     "metadata": {},
     "output_type": "execute_result"
    }
   ],
   "source": [
    "X_test[0] * -.1"
   ]
  },
  {
   "cell_type": "code",
   "execution_count": null,
   "id": "54541afb",
   "metadata": {},
   "outputs": [],
   "source": []
  }
 ],
 "metadata": {
  "kernelspec": {
   "display_name": "Python 3",
   "language": "python",
   "name": "python3"
  },
  "language_info": {
   "codemirror_mode": {
    "name": "ipython",
    "version": 3
   },
   "file_extension": ".py",
   "mimetype": "text/x-python",
   "name": "python",
   "nbconvert_exporter": "python",
   "pygments_lexer": "ipython3",
   "version": "3.8.8"
  }
 },
 "nbformat": 4,
 "nbformat_minor": 5
}
